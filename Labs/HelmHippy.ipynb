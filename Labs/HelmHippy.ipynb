{
 "cells": [
  {
   "cell_type": "code",
   "execution_count": 1,
   "metadata": {},
   "outputs": [],
   "source": [
    "from __future__ import absolute_import, division, print_function\n",
    "\n",
    "import dolfin as dl\n",
    "import math\n",
    "import numpy as np\n",
    "import matplotlib.pyplot as plt\n",
    "%matplotlib inline\n",
    "import hippylib as hp\n",
    "\n",
    "import logging\n",
    "logging.getLogger('FFC').setLevel(logging.WARNING)\n",
    "logging.getLogger('UFL').setLevel(logging.WARNING)\n",
    "dl.set_log_active(False)\n",
    "import ipywidgets as wd\n",
    "np.random.seed(seed=1)"
   ]
  },
  {
   "cell_type": "code",
   "execution_count": 2,
   "metadata": {},
   "outputs": [
    {
     "name": "stdout",
     "output_type": "stream",
     "text": [
      "Number of dofs: STATE=6561, PARAMETER=1681, ADJOINT=6561\n",
      "Number of dofs: STATE=1681, PARAMETER=441, ADJOINT=1681\n",
      "Number of dofs: STATE=441, PARAMETER=121, ADJOINT=441\n"
     ]
    }
   ],
   "source": [
    "def init_problem(num_x=20, num_y=20):\n",
    "    ndim = 2\n",
    "    mesh = dl.UnitSquareMesh(num_x, num_y)\n",
    "    Vh2 = dl.FunctionSpace(mesh, 'Lagrange', 2)\n",
    "    Vh1 = dl.FunctionSpace(mesh, 'Lagrange', 1)\n",
    "    Vh = [Vh2, Vh1, Vh2]\n",
    "    print( \"Number of dofs: STATE={0}, PARAMETER={1}, ADJOINT={2}\".format(\n",
    "        Vh[hp.STATE].dim(), Vh[hp.PARAMETER].dim(), Vh[hp.ADJOINT].dim()) )\n",
    "    return Vh\n",
    "\n",
    "Vh40 = init_problem(40,40)\n",
    "Vh20 = init_problem(20,20)\n",
    "Vh10 = init_problem(10,10)"
   ]
  },
  {
   "cell_type": "markdown",
   "metadata": {},
   "source": [
    "---\n",
    "# Treat the forcing as certain and the material properties as uncertain"
   ]
  },
  {
   "cell_type": "code",
   "execution_count": 3,
   "metadata": {},
   "outputs": [],
   "source": [
    "def make_pde_for_hp_m(Vh, omega_const=0.5, f_const=1.0, g_const=0.0):\n",
    "    f = dl.Constant(f_const)\n",
    "    g = dl.Constant(g_const)\n",
    "    omega = dl.Constant(omega_const)\n",
    "\n",
    "    def pde_varf(u,m,p):\n",
    "        return -dl.inner(dl.nabla_grad(u), dl.nabla_grad(p))*dl.dx + omega*omega*dl.exp(2.0*m)*dl.inner(u, p)*dl.dx + f*p*dl.dx  + g*p*dl.ds\n",
    "    \n",
    "    pde = hp.PDEVariationalProblem(Vh, pde_varf, [], [], is_fwd_linear=True)\n",
    "    return pde\n"
   ]
  },
  {
   "cell_type": "code",
   "execution_count": 4,
   "metadata": {},
   "outputs": [],
   "source": [
    "def generate_prior_and_true_model(Vh, gamma=1.0, delta=8.0, seed=1):\n",
    "#     anis_diff = dl.Expression(hp.code_AnisTensor2D, degree=1)\n",
    "#     anis_diff.theta0 = 2.\n",
    "#     anis_diff.theta1 = .5\n",
    "#     anis_diff.alpha = math.pi/4\n",
    "#     prior = hp.BiLaplacianPrior(Vh[hp.PARAMETER], gamma, delta, anis_diff)\n",
    "\n",
    "    prior = hp.BiLaplacianPrior(Vh[hp.PARAMETER], gamma, delta)\n",
    "    prior.mean = dl.interpolate(dl.Constant(1), Vh[hp.PARAMETER]).vector()\n",
    "    # This function generates a random field with a prescribed anisotropic covariance function.\n",
    "    def true_model(prior):\n",
    "        noise = dl.Vector()\n",
    "        prior.init_vector(noise, \"noise\")\n",
    "        _world_rank = dl.MPI.rank(dl.mpi_comm_world())\n",
    "        _world_size = dl.MPI.rank(dl.mpi_comm_world())\n",
    "        myRandom = hp.Random(_world_rank, _world_size, seed=seed)\n",
    "        \n",
    "        myRandom.normal(1., noise) # variance 1 noise\n",
    "\n",
    "        mtrue = dl.Vector()\n",
    "        prior.init_vector(mtrue, 0)\n",
    "\n",
    "        prior.sample(noise, mtrue)\n",
    "        return mtrue\n",
    "\n",
    "    return prior, true_model\n",
    "\n",
    "def visualize_true_field(Vh, gamma=1.0, delta=8.0, seed=1, cbar = 0.2):   \n",
    "    print(\"Prior regularization: (delta_x - gamma*Laplacian)^order: delta={0}, gamma={1}, order={2}\".format(delta, gamma, -2))    \n",
    "\n",
    "    plt.figure(figsize=(15,10))\n",
    "    for i in range(1,10):\n",
    "        if(i != 5):\n",
    "            ss_loc = int(330+i)\n",
    "            prior, true_model = generate_prior_and_true_model(Vh, gamma, delta, seed=i)\n",
    "            mtrue = true_model(prior) # generate realization\n",
    "            hp.nb.plot(dl.Function(Vh[hp.PARAMETER], mtrue), subplot_loc=ss_loc, \n",
    "                       mytitle=\"Realization\", vmin=1-cbar, vmax=1+cbar)\n",
    "    \n",
    "    hp.nb.plot(dl.Function(Vh[hp.PARAMETER], prior.mean), subplot_loc=335, \n",
    "               mytitle=\"Mean\", vmin=1-cbar, vmax=1+cbar)\n",
    "    plt.show()\n",
    "    return None\n",
    "\n"
   ]
  },
  {
   "cell_type": "markdown",
   "metadata": {},
   "source": [
    "## Play around with this widget to define some true parameter"
   ]
  },
  {
   "cell_type": "markdown",
   "metadata": {},
   "source": [
    "$\\sqrt(\\gamma/\\delta)$ is proportional to the correlation length in the field. "
   ]
  },
  {
   "cell_type": "code",
   "execution_count": 5,
   "metadata": {
    "scrolled": false
   },
   "outputs": [
    {
     "data": {
      "application/vnd.jupyter.widget-view+json": {
       "model_id": "0388785c3fe6425a826d92bd69ca8799",
       "version_major": 2,
       "version_minor": 0
      },
      "text/plain": [
       "interactive(children=(FloatSlider(value=1.0, continuous_update=False, description='gamma', max=10.0, min=0.25,…"
      ]
     },
     "metadata": {},
     "output_type": "display_data"
    }
   ],
   "source": [
    "Prior_Wid = wd.interact_manual(visualize_true_field, \n",
    "            Vh = wd.fixed(Vh10),\n",
    "            gamma = wd.FloatSlider(value=1.0, min=0.25, max=10.0, step=0.25, continuous_update=False),\n",
    "            delta = wd.FloatSlider(value=8.0, min=0.25, max=10.0, step=0.25, continuous_update=False),\n",
    "            seed = wd.IntSlider(value=1, min=1, max=100, step=1, continuous_update=False),\n",
    "            cbar = wd.FloatSlider(value=0.25, min=0.05, max=0.5, step=0.05, continuous_update=False))\n"
   ]
  },
  {
   "cell_type": "markdown",
   "metadata": {},
   "source": [
    "## Run cell below with values you decided on to set them. "
   ]
  },
  {
   "cell_type": "code",
   "execution_count": 6,
   "metadata": {},
   "outputs": [],
   "source": [
    "def solve_problem(Vh, omega_const, f_const, g_const, gamma, delta, num_sensors = 100, rel_noise = 0.005, max_its=20, seed=1, cbar=0.25):\n",
    "    prior, true_model = generate_prior_and_true_model(Vh, gamma, delta, seed)\n",
    "    mtrue = true_model(prior) # generate realization\n",
    "    \n",
    "#     np.random.seed(1)\n",
    "    sensor_locs = np.random.uniform(0.05,0.95, [num_sensors, 2] )\n",
    "    print( \"Number of observation points: {0} with relative noise {1}\".format(num_sensors, rel_noise) )\n",
    "    misfit = hp.PointwiseStateObservation(Vh[hp.STATE], sensor_locs)\n",
    "    \n",
    "    # Instantiate the PDE Object for hippylib\n",
    "    pde = make_pde_for_hp_m(Vh, omega_const, f_const, g_const)\n",
    "    utrue = pde.generate_state()\n",
    "    x = [utrue, mtrue, None]\n",
    "    pde.solveFwd(x[hp.STATE], x, 1e-9)\n",
    "    misfit.B.mult(x[hp.STATE], misfit.d)\n",
    "    MAX = misfit.d.norm(\"linf\")\n",
    "    \n",
    "    noise_std_dev = rel_noise * MAX\n",
    "    hp.parRandom.normal_perturb(noise_std_dev, misfit.d)\n",
    "    misfit.noise_variance = noise_std_dev*noise_std_dev\n",
    "    \n",
    "    # Instantiate the Model Object for hippylib\n",
    "    model = hp.Model(pde, prior, misfit)\n",
    "    \n",
    "    # Solver\n",
    "    m = prior.mean.copy()\n",
    "    solver = hp.ReducedSpaceNewtonCG(model) # CHOOSE SOLVER\n",
    "    solver.parameters[\"rel_tolerance\"] = 1e-6\n",
    "    solver.parameters[\"abs_tolerance\"] = 1e-12\n",
    "    solver.parameters[\"max_iter\"]      = max_its\n",
    "    solver.parameters[\"inner_rel_tolerance\"] = 1e-15\n",
    "    solver.parameters[\"GN_iter\"] = 5\n",
    "    solver.parameters[\"globalization\"] = \"LS\"\n",
    "    solver.parameters[\"LS\"][\"c_armijo\"] = 1e-4\n",
    "    solver.parameters[\"print_level\"] = -1\n",
    "    \n",
    "    x = solver.solve([None, m, None])\n",
    "    \n",
    "    if solver.converged:\n",
    "        print( \"\\nConverged in \", solver.it, \" iterations.\")\n",
    "    else:\n",
    "        print( \"\\nNot Converged\")\n",
    "\n",
    "    print( \"Termination reason: \", solver.termination_reasons[solver.reason] )\n",
    "    print( \"Final gradient norm: \", solver.final_grad_norm )\n",
    "    print( \"Final cost: \", solver.final_cost )\n",
    "\n",
    "    # Plotting at end\n",
    "    plt.figure(figsize=(15,10))\n",
    "    vmax = max( utrue.max(), misfit.d.max() )\n",
    "    vmin = min( utrue.min(), misfit.d.min() )\n",
    "    \n",
    "    hp.nb.plot(dl.Function(Vh[hp.PARAMETER], mtrue), subplot_loc=331, \n",
    "               mytitle=\"True Parameter\", vmin=1-cbar, vmax=1+cbar)\n",
    "    hp.nb.plot(dl.Function(Vh[hp.STATE], utrue), \n",
    "               mytitle=\"True State\", subplot_loc=332, vmin=vmin, vmax=vmax)\n",
    "    hp.nb.plot_pts(sensor_locs, misfit.d, \n",
    "                   mytitle=\"Observations\", subplot_loc=333, vmin=vmin, vmax=vmax)\n",
    "    \n",
    "    hp.nb.plot(dl.Function(Vh[hp.PARAMETER], x[hp.PARAMETER]), \n",
    "               mytitle=\"Estimated Parameter\", subplot_loc=334, vmin=1-cbar, vmax=1+cbar)\n",
    "    hp.nb.plot(dl.Function(Vh[hp.STATE], x[hp.STATE]),\n",
    "               mytitle=\"Estimated State\", subplot_loc=335, vmin=vmin, vmax=vmax)\n",
    "\n",
    "    plt.show()\n",
    "    \n",
    "\n",
    "    \n",
    "\n",
    "#     m0 = dl.interpolate(dl.Expression(\"sin(x[0])\", degree=5), Vh[hp.PARAMETER])\n",
    "#     _ = hp.modelVerify(model, m0.vector(), 1e-12)\n",
    "    "
   ]
  },
  {
   "cell_type": "code",
   "execution_count": 7,
   "metadata": {},
   "outputs": [],
   "source": [
    "W_omega_const = wd.FloatSlider(value=1.0, min=0.05, max=5.0, step=0.05, continuous_update=False)\n",
    "W_f_const = wd.FloatSlider(value=0.0, min=0, max=10.0, step=0.25, continuous_update=False)\n",
    "W_g_const = wd.FloatSlider(value=1.0, min=0, max=10.0, step=0.25, continuous_update=False)\n",
    "W_gamma = wd.FloatSlider(value=1.0, min=0.25, max=10.0, step=0.25, continuous_update=False)\n",
    "W_delta = wd.FloatSlider(value=8.0, min=0.25, max=10.0, step=0.25, continuous_update=False)\n",
    "W_num_sensors = wd.IntSlider(value=25, min=1, max=500, continuous_update=False)\n",
    "W_rel_noise = wd.SelectionSlider(value=0.005, options=[(\"%g\"%i,i) for i in [i*10**-4 for i in range(1,101)]], continuous_update=False)                  \n",
    "W_max_its = wd.IntSlider(value=20, min=1, max=100, continuous_update=False)\n",
    "W_seed = wd.IntSlider(value=1, min=1, max=100, step=1, continuous_update=False)\n",
    "W_cbar = wd.FloatSlider(value=0.25, min=0.05, max=0.5, step=0.05, continuous_update=False)"
   ]
  },
  {
   "cell_type": "code",
   "execution_count": 8,
   "metadata": {
    "scrolled": false
   },
   "outputs": [],
   "source": [
    "# gui = wd.HBox([wd.VBox([W_omega_const, W_f_const, W_g_const]), \n",
    "#                wd.VBox([W_var, W_gamma, W_delta]), \n",
    "#                wd.VBox([W_num_sensors, W_rel_noise, W_max_its, W_cbar]) ])\n",
    "keydict = {'omega_const': W_omega_const, \n",
    "           'f_const': W_f_const, \n",
    "           'g_const': W_g_const, \n",
    "           'gamma': W_gamma, \n",
    "           'delta': W_delta, \n",
    "           'num_sensors': W_num_sensors, \n",
    "           'rel_noise': W_rel_noise, \n",
    "           'max_its': W_max_its, \n",
    "           'seed': W_seed,\n",
    "           'cbar': W_cbar}\n"
   ]
  },
  {
   "cell_type": "code",
   "execution_count": 11,
   "metadata": {
    "scrolled": false
   },
   "outputs": [
    {
     "data": {
      "application/vnd.jupyter.widget-view+json": {
       "model_id": "79e356123c974ae78675892c326b0a43",
       "version_major": 2,
       "version_minor": 0
      },
      "text/plain": [
       "interactive(children=(FloatSlider(value=0.1, continuous_update=False, description='omega_const', max=5.0, min=…"
      ]
     },
     "metadata": {},
     "output_type": "display_data"
    }
   ],
   "source": [
    "wid_out = wd.interact_manual(solve_problem, Vh = wd.fixed(Vh40), **keydict)"
   ]
  },
  {
   "cell_type": "code",
   "execution_count": 14,
   "metadata": {},
   "outputs": [
    {
     "name": "stdout",
     "output_type": "stream",
     "text": [
      "On branch master\n",
      "Your branch is up-to-date with 'origin/master'.\n",
      "nothing to commit, working directory clean\n",
      "On branch master\n",
      "Your branch is up-to-date with 'origin/master'.\n",
      "nothing to commit, working directory clean\n"
     ]
    }
   ],
   "source": [
    "%%bash \n",
    "git commit -am 'updates'\n",
    "git status"
   ]
  },
  {
   "cell_type": "code",
   "execution_count": null,
   "metadata": {},
   "outputs": [],
   "source": []
  },
  {
   "cell_type": "code",
   "execution_count": null,
   "metadata": {},
   "outputs": [],
   "source": []
  }
 ],
 "metadata": {
  "kernelspec": {
   "display_name": "Python 3",
   "language": "python",
   "name": "python3"
  },
  "language_info": {
   "codemirror_mode": {
    "name": "ipython",
    "version": 3
   },
   "file_extension": ".py",
   "mimetype": "text/x-python",
   "name": "python",
   "nbconvert_exporter": "python",
   "pygments_lexer": "ipython3",
   "version": "3.5.2"
  }
 },
 "nbformat": 4,
 "nbformat_minor": 2
}
