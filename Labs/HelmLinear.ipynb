{
 "cells": [
  {
   "cell_type": "code",
   "execution_count": null,
   "metadata": {},
   "outputs": [],
   "source": [
    "from __future__ import absolute_import, division, print_function\n",
    "\n",
    "import dolfin as dl\n",
    "import math\n",
    "import numpy as np\n",
    "import matplotlib.pyplot as plt\n",
    "%matplotlib inline\n",
    "# imrport hippylib as hp\n",
    "\n",
    "import logging\n",
    "logging.getLogger('FFC').setLevel(logging.WARNING)\n",
    "logging.getLogger('UFL').setLevel(logging.WARNING)\n",
    "dl.set_log_active(False)\n",
    "\n",
    "np.random.seed(seed=1)"
   ]
  },
  {
   "cell_type": "code",
   "execution_count": null,
   "metadata": {},
   "outputs": [],
   "source": [
    "# ndim = 2\n",
    "nx = 32\n",
    "ny = 32\n",
    "mesh = dl.UnitSquareMesh(nx, ny)\n",
    "Vh2 = dl.FunctionSpace(mesh, 'Lagrange', 2)\n",
    "# Vh1 = dl.FunctionSpace(mesh, 'Lagrange', 1)\n",
    "# Vh = [Vh2, Vh1, Vh2]\n",
    "# print( \"Number of dofs: STATE={0}, PARAMETER={1}, ADJOINT={2}\".format(\n",
    "#     Vh[hp.STATE].dim(), Vh[hp.PARAMETER].dim(), Vh[hp.ADJOINT].dim()) )"
   ]
  },
  {
   "cell_type": "code",
   "execution_count": null,
   "metadata": {},
   "outputs": [],
   "source": [
    "def eval_on_grid(u, n=10):\n",
    "    x = np.linspace(0,1,n)\n",
    "    y = np.linspace(0,1,n)\n",
    "    X,Y = np.meshgrid(x,y)\n",
    "    xx = X.flatten()\n",
    "    yy = Y.flatten()\n",
    "    return np.array([u(x,y) for x, y in zip(xx,yy)])"
   ]
  },
  {
   "cell_type": "code",
   "execution_count": null,
   "metadata": {},
   "outputs": [],
   "source": [
    "def f_expr(Vh, x,y):\n",
    "    f = dl.interpolate(dl.Expression(\"std::exp(-pow(x[0]-{0},2)/0.1)*std::exp(-pow(x[1]-{1},2)/0.1)\".format(x,y), degree=5), Vh)\n",
    "    return f\n",
    "\n",
    "def generate_f(Vh, flocs, weights):\n",
    "    f = weights[0]*f_expr(Vh, flocs[0][0], flocs[0][1])\n",
    "    for floc, weight in zip(flocs[1:], weights[1:]):\n",
    "        f += weight*f_expr(Vh, floc[0], floc[1])\n",
    "    return f\n",
    "\n",
    "def solve_system(Vh, f, omega_const, r):\n",
    "    def boundary(x, on_boundary):\n",
    "        return on_boundary\n",
    "\n",
    "    bc_state = dl.DirichletBC(Vh, dl.Constant(0.0), boundary)\n",
    "    u = dl.Function(Vh)\n",
    "    u_trial = dl.TrialFunction(Vh)\n",
    "    u_test  = dl.TestFunction(Vh)\n",
    "    omega = dl.Constant(omega_const)\n",
    "    mtrue = dl.interpolate(dl.Expression('std::log( 60. - 40.*(pow(x[0] - 0.5,2) + pow(x[1] - 0.5,2) < pow({},2) ) )'.format(r), degree=5), Vh)\n",
    "    \n",
    "    a = (-dl.inner(dl.grad(u_trial), dl.grad(u_test)) + omega*omega*dl.inner(dl.exp(2*mtrue)*u_trial, u_test)) * dl.dx\n",
    "    L = -f * u_test * dl.dx\n",
    "    A,b = dl.assemble_system(a, L, bc_state)\n",
    "    dl.solve(A, u.vector(), b)\n",
    "    return u"
   ]
  },
  {
   "cell_type": "code",
   "execution_count": null,
   "metadata": {},
   "outputs": [],
   "source": [
    "declist = [0.1,0.2,0.3,0.4,0.5,0.6,0.7,0.8,0.9]\n",
    "flocs = np.array([[i,j] for i in declist for j in declist])\n",
    "std = 0.005\n",
    "weights = np.random.normal(1,std,len(flocs))"
   ]
  },
  {
   "cell_type": "markdown",
   "metadata": {},
   "source": [
    "### Demonstrate that the two ways of defining the expression are equivalent."
   ]
  },
  {
   "cell_type": "code",
   "execution_count": null,
   "metadata": {},
   "outputs": [],
   "source": [
    "# f = generate_f(flocs,weights)"
   ]
  },
  {
   "cell_type": "code",
   "execution_count": null,
   "metadata": {},
   "outputs": [],
   "source": [
    "# u = solve_system(f)"
   ]
  },
  {
   "cell_type": "code",
   "execution_count": null,
   "metadata": {},
   "outputs": [],
   "source": [
    "# ug = eval_on_grid(u)"
   ]
  },
  {
   "cell_type": "code",
   "execution_count": null,
   "metadata": {},
   "outputs": [],
   "source": [
    "# plt.contourf(ug.reshape(50,50))\n",
    "# plt.colorbar()"
   ]
  },
  {
   "cell_type": "markdown",
   "metadata": {},
   "source": [
    "## Alternative Generation Method"
   ]
  },
  {
   "cell_type": "code",
   "execution_count": null,
   "metadata": {},
   "outputs": [],
   "source": [
    "omega_const = 0.5\n",
    "r = 0.3\n",
    "ulist = [solve_system(Vh2, generate_f(Vh2, [floc], [1]), omega_const, r) for floc in flocs]"
   ]
  },
  {
   "cell_type": "code",
   "execution_count": null,
   "metadata": {},
   "outputs": [],
   "source": [
    "n = 120\n",
    "U = np.array([eval_on_grid(u,n) for u in ulist]).T"
   ]
  },
  {
   "cell_type": "code",
   "execution_count": null,
   "metadata": {},
   "outputs": [],
   "source": [
    "u2 = U @ np.array(weights)"
   ]
  },
  {
   "cell_type": "markdown",
   "metadata": {},
   "source": [
    "Note that the error is close to machine-$\\epsilon$"
   ]
  },
  {
   "cell_type": "code",
   "execution_count": null,
   "metadata": {},
   "outputs": [],
   "source": [
    "def plot_state(u2,flocs):\n",
    "    n = int(np.sqrt(u2.shape))\n",
    "    x = np.linspace(0,1,n)\n",
    "    y = np.linspace(0,1,n)\n",
    "    plt.figure(figsize=(15,10))\n",
    "    vmin=-0.7\n",
    "    vmax=0.3\n",
    "    plt.contourf(x, y, u2.reshape(n,n), alpha=0.8, vmin=vmin, vmax=vmax)\n",
    "    plt.pcolor(x, y, u2.reshape(n,n), alpha=0.5, vmin=vmin, vmax=vmax)\n",
    "    plt.colorbar()\n",
    "    plt.scatter(flocs[:,0], flocs[:,1], marker='x', c='white', s=200, label='source locations')\n",
    "    plt.legend(fontsize=18)\n",
    "    plt.show()"
   ]
  },
  {
   "cell_type": "code",
   "execution_count": null,
   "metadata": {},
   "outputs": [],
   "source": [
    "plot_state(u2, flocs)"
   ]
  },
  {
   "cell_type": "code",
   "execution_count": null,
   "metadata": {},
   "outputs": [],
   "source": [
    "%%bash\n",
    "git commit -am 'updates'"
   ]
  },
  {
   "cell_type": "code",
   "execution_count": null,
   "metadata": {},
   "outputs": [],
   "source": [
    "def wrap_problem(nx=20, r=0.2, omega_const=0.5, std=0.005, n=50, num_f=4, seed=1):\n",
    "    ndim = 2\n",
    "    ny = nx\n",
    "    mesh = dl.UnitSquareMesh(nx, ny)\n",
    "    Vh2 = dl.FunctionSpace(mesh, 'Lagrange', 2)\n",
    "#     Vh1 = dl.FunctionSpace(mesh, 'Lagrange', 1)\n",
    "#     Vh = [Vh2, Vh1, Vh2]\n",
    "#     print( \"Number of dofs: STATE={0}, PARAMETER={1}, ADJOINT={2}\".format(\n",
    "#         Vh[STATE].dim(), Vh[PARAMETER].dim(), Vh[ADJOINT].dim()) )\n",
    "    \n",
    "    declist = np.linspace(0.1, 0.9, num_f)\n",
    "    \n",
    "    flocs = np.array([[i,j] for i in declist for j in declist])\n",
    "    ulist = [solve_system(Vh2, generate_f(Vh2, [floc], [1]), omega_const, r) for floc in flocs] # solve system for each source\n",
    "    \n",
    "    np.random.seed(seed)\n",
    "    weights = np.random.normal(0,std,len(flocs))\n",
    "    U = np.array([eval_on_grid(u,n) for u in ulist]).T # evaluate on a mesh\n",
    "    u2 = U @ np.array(weights) # sum state variables over all source terms.\n",
    "    plot_state(u2,flocs)\n",
    "    "
   ]
  },
  {
   "cell_type": "code",
   "execution_count": null,
   "metadata": {},
   "outputs": [],
   "source": [
    "import ipywidgets as wd"
   ]
  },
  {
   "cell_type": "code",
   "execution_count": null,
   "metadata": {},
   "outputs": [],
   "source": [
    "W_nx = wd.IntSlider(value=50, min=20, max=100, step=2, continuous_update=False)\n",
    "# W_ny = wd.IntSlider(value=20, min=20, max=80, step=2, continuous_update=False)\n",
    "W_r = wd.FloatSlider(value=0.2, min=0.1, max=0.4, step=0.05, continuous_update=False)\n",
    "omega_options = [0.0125, 0.25, 0.5, 1.0, 2.0, 4.0, 8.0]\n",
    "W_omega_const = wd.SelectionSlider(value=0.5, options=omega_options, continuous_update=False)\n",
    "sd_options = [0.0001, 0.0005, 0.001, 0.005, 0.01, 0.025, 0.05, 0.075, 0.1, 0.25, 0.5, 0.75, 1.0]\n",
    "W_std = wd.SelectionSlider(value=0.005, options=sd_options, continuous_update=False)\n",
    "W_n = wd.IntSlider(value=10, min=50, max=100, step=2, continuous_update=False)\n",
    "W_num_f = wd.IntSlider(value=1, min=1, max=20, step=1, continuous_update=False)\n",
    "W_seed = wd.IntSlider(value=1, min=1, max=100, step=1, continuous_update=False)\n",
    "\n",
    "kwds = {'nx': W_nx, \n",
    "        'r': W_r, \n",
    "        'omega_const': W_omega_const, \n",
    "        'std': W_std,\n",
    "        'n': W_n,\n",
    "        'num_f': W_num_f,\n",
    "        'seed': W_seed\n",
    "       }\n"
   ]
  },
  {
   "cell_type": "code",
   "execution_count": null,
   "metadata": {},
   "outputs": [],
   "source": [
    "wd.interact_manual(wrap_problem, **kwds)"
   ]
  },
  {
   "cell_type": "code",
   "execution_count": null,
   "metadata": {},
   "outputs": [],
   "source": []
  },
  {
   "cell_type": "code",
   "execution_count": null,
   "metadata": {},
   "outputs": [],
   "source": []
  },
  {
   "cell_type": "code",
   "execution_count": null,
   "metadata": {},
   "outputs": [],
   "source": []
  },
  {
   "cell_type": "code",
   "execution_count": null,
   "metadata": {},
   "outputs": [],
   "source": []
  }
 ],
 "metadata": {
  "kernelspec": {
   "display_name": "Python 3",
   "language": "python",
   "name": "python3"
  },
  "language_info": {
   "codemirror_mode": {
    "name": "ipython",
    "version": 3
   },
   "file_extension": ".py",
   "mimetype": "text/x-python",
   "name": "python",
   "nbconvert_exporter": "python",
   "pygments_lexer": "ipython3",
   "version": "3.5.2"
  }
 },
 "nbformat": 4,
 "nbformat_minor": 2
}
