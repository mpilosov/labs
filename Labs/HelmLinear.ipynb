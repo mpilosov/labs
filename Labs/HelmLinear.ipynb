{
 "cells": [
  {
   "cell_type": "code",
   "execution_count": 1,
   "metadata": {},
   "outputs": [],
   "source": [
    "from __future__ import absolute_import, division, print_function\n",
    "\n",
    "import dolfin as dl\n",
    "import math\n",
    "import numpy as np\n",
    "import matplotlib.pyplot as plt\n",
    "%matplotlib inline\n",
    "from hippylib import *\n",
    "\n",
    "import logging\n",
    "logging.getLogger('FFC').setLevel(logging.WARNING)\n",
    "logging.getLogger('UFL').setLevel(logging.WARNING)\n",
    "dl.set_log_active(False)\n",
    "\n",
    "np.random.seed(seed=1)"
   ]
  },
  {
   "cell_type": "code",
   "execution_count": 2,
   "metadata": {},
   "outputs": [
    {
     "name": "stdout",
     "output_type": "stream",
     "text": [
      "Number of dofs: STATE=4225, PARAMETER=1089, ADJOINT=4225\n"
     ]
    }
   ],
   "source": [
    "ndim = 2\n",
    "nx = 32\n",
    "ny = 32\n",
    "mesh = dl.UnitSquareMesh(nx, ny)\n",
    "Vh2 = dl.FunctionSpace(mesh, 'Lagrange', 2)\n",
    "Vh1 = dl.FunctionSpace(mesh, 'Lagrange', 1)\n",
    "Vh = [Vh2, Vh1, Vh2]\n",
    "print( \"Number of dofs: STATE={0}, PARAMETER={1}, ADJOINT={2}\".format(\n",
    "    Vh[STATE].dim(), Vh[PARAMETER].dim(), Vh[ADJOINT].dim()) )"
   ]
  },
  {
   "cell_type": "code",
   "execution_count": 3,
   "metadata": {},
   "outputs": [],
   "source": [
    "def eval_on_grid(u):\n",
    "    x = np.linspace(0,1)\n",
    "    y = np.linspace(0,1)\n",
    "    X,Y = np.meshgrid(x,y)\n",
    "    xx = X.flatten()\n",
    "    yy = Y.flatten()\n",
    "    return np.array([u(x,y) for x, y in zip(xx,yy)])"
   ]
  },
  {
   "cell_type": "code",
   "execution_count": 4,
   "metadata": {},
   "outputs": [],
   "source": [
    "def f_expr(x,y):\n",
    "    f = dl.interpolate(dl.Expression(\"std::exp(-pow(x[0]-{0},2)/0.1)*std::exp(-pow(x[1]-{1},2)/0.1)\".format(x,y), degree=5), Vh2)\n",
    "    return f\n",
    "\n",
    "def generate_f(flocs, weights):\n",
    "    f = weights[0]*f_expr(flocs[0][0], flocs[0][1])\n",
    "    for floc, weight in zip(flocs[1:], weights[1:]):\n",
    "        f += weight*f_expr(floc[0], floc[1])\n",
    "    return f\n",
    "\n",
    "def solve_system(f):\n",
    "    def boundary(x, on_boundary):\n",
    "        return on_boundary\n",
    "\n",
    "    bc_state = dl.DirichletBC(Vh2, dl.Constant(0.0), boundary)\n",
    "    u = dl.Function(Vh2)\n",
    "    u_trial = dl.TrialFunction(Vh2)\n",
    "    u_test  = dl.TestFunction(Vh2)\n",
    "    omega = dl.Constant(0.5)\n",
    "    mtrue = dl.interpolate(dl.Expression('std::log( 40. - 20.*(pow(x[0] - 0.5,2) + pow(x[1] - 0.5,2) < pow(0.2,2) ) )', degree=5), Vh1)\n",
    "    a = (-dl.inner(dl.grad(u_trial), dl.grad(u_test)) + omega*omega*dl.inner(dl.exp(2*mtrue)*u_trial, u_test)) * dl.dx\n",
    "    L = -f * u_test * dl.dx\n",
    "    A,b = dl.assemble_system(a, L, bc_state)\n",
    "    dl.solve(A, u.vector(), b)\n",
    "    return u"
   ]
  },
  {
   "cell_type": "code",
   "execution_count": 5,
   "metadata": {},
   "outputs": [],
   "source": [
    "declist = [0.1,0.2,0.3,0.4,0.5,0.6,0.7,0.8,0.9]\n",
    "flocs = np.array([[i,j] for i in declist for j in declist])\n",
    "weights = np.random.normal(0,1,len(flocs))"
   ]
  },
  {
   "cell_type": "code",
   "execution_count": null,
   "metadata": {},
   "outputs": [],
   "source": [
    "f = generate_f(flocs,weights)"
   ]
  },
  {
   "cell_type": "code",
   "execution_count": null,
   "metadata": {},
   "outputs": [],
   "source": [
    "u = solve_system(f)"
   ]
  },
  {
   "cell_type": "code",
   "execution_count": null,
   "metadata": {},
   "outputs": [],
   "source": [
    "ug = eval_on_grid(u)"
   ]
  },
  {
   "cell_type": "code",
   "execution_count": null,
   "metadata": {},
   "outputs": [],
   "source": [
    "plt.contourf(ug.reshape(50,50))\n",
    "plt.colorbar()"
   ]
  },
  {
   "cell_type": "code",
   "execution_count": 6,
   "metadata": {},
   "outputs": [],
   "source": [
    "ulist = [solve_system(generate_f([floc], [1])) for floc in flocs]"
   ]
  },
  {
   "cell_type": "code",
   "execution_count": 7,
   "metadata": {},
   "outputs": [],
   "source": [
    "U = np.array([eval_on_grid(u) for u in ulist]).T"
   ]
  },
  {
   "cell_type": "code",
   "execution_count": 8,
   "metadata": {},
   "outputs": [],
   "source": [
    "u2 = U @ np.array(weights)"
   ]
  },
  {
   "cell_type": "code",
   "execution_count": 9,
   "metadata": {},
   "outputs": [
    {
     "data": {
      "text/plain": [
       "<matplotlib.colorbar.Colorbar at 0x7f6cc446c5c0>"
      ]
     },
     "execution_count": 9,
     "metadata": {},
     "output_type": "execute_result"
    },
    {
     "data": {
      "image/png": "[encoded data removed]",
      "text/plain": [
       "<matplotlib.figure.Figure at 0x7f6cd3854128>"
      ]
     },
     "metadata": {},
     "output_type": "display_data"
    }
   ],
   "source": [
    "plt.contourf(u2.reshape(50,50))\n",
    "plt.colorbar()"
   ]
  },
  {
   "cell_type": "code",
   "execution_count": 10,
   "metadata": {},
   "outputs": [
    {
     "ename": "NameError",
     "evalue": "name 'ug' is not defined",
     "output_type": "error",
     "traceback": [
      "\u001b[0;31m\u001b[0m",
      "\u001b[0;31mNameError\u001b[0mTraceback (most recent call last)",
      "\u001b[0;32m<ipython-input-10-a8b7b0a0946c>\u001b[0m in \u001b[0;36m<module>\u001b[0;34m()\u001b[0m\n\u001b[0;32m----> 1\u001b[0;31m \u001b[0mplt\u001b[0m\u001b[0;34m.\u001b[0m\u001b[0mcontourf\u001b[0m\u001b[0;34m(\u001b[0m\u001b[0;34m(\u001b[0m\u001b[0mug\u001b[0m\u001b[0;34m-\u001b[0m\u001b[0mu2\u001b[0m\u001b[0;34m)\u001b[0m\u001b[0;34m.\u001b[0m\u001b[0mreshape\u001b[0m\u001b[0;34m(\u001b[0m\u001b[0;36m50\u001b[0m\u001b[0;34m,\u001b[0m\u001b[0;36m50\u001b[0m\u001b[0;34m)\u001b[0m\u001b[0;34m)\u001b[0m\u001b[0;34m\u001b[0m\u001b[0m\n\u001b[0m\u001b[1;32m      2\u001b[0m \u001b[0mplt\u001b[0m\u001b[0;34m.\u001b[0m\u001b[0mcolorbar\u001b[0m\u001b[0;34m(\u001b[0m\u001b[0;34m)\u001b[0m\u001b[0;34m\u001b[0m\u001b[0m\n",
      "\u001b[0;31mNameError\u001b[0m: name 'ug' is not defined"
     ]
    }
   ],
   "source": [
    "plt.contourf((ug-u2).reshape(50,50))\n",
    "plt.colorbar()"
   ]
  },
  {
   "cell_type": "code",
   "execution_count": null,
   "metadata": {},
   "outputs": [],
   "source": []
  },
  {
   "cell_type": "code",
   "execution_count": null,
   "metadata": {},
   "outputs": [],
   "source": []
  }
 ],
 "metadata": {
  "kernelspec": {
   "display_name": "Python 3",
   "language": "python",
   "name": "python3"
  },
  "language_info": {
   "codemirror_mode": {
    "name": "ipython",
    "version": 3
   },
   "file_extension": ".py",
   "mimetype": "text/x-python",
   "name": "python",
   "nbconvert_exporter": "python",
   "pygments_lexer": "ipython3",
   "version": "3.5.2"
  }
 },
 "nbformat": 4,
 "nbformat_minor": 2
}
