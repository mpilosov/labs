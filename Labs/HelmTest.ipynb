{
 "cells": [
  {
   "cell_type": "code",
   "execution_count": 2,
   "metadata": {},
   "outputs": [],
   "source": [
    "import matplotlib.pyplot as plt\n",
    "%matplotlib inline\n",
    "\n",
    "import dolfin as dl\n",
    "import numpy as np\n",
    "\n",
    "# import hippylib as hp\n",
    "\n",
    "import ipywidgets as wd\n",
    "\n",
    "import logging\n",
    "logging.getLogger('FFC').setLevel(logging.WARNING)\n",
    "logging.getLogger('UFL').setLevel(logging.WARNING)\n",
    "dl.set_log_active(False)"
   ]
  },
  {
   "cell_type": "markdown",
   "metadata": {},
   "source": [
    "Helmholtz given by\n",
    "\n",
    "[ TODO ]"
   ]
  },
  {
   "cell_type": "markdown",
   "metadata": {},
   "source": [
    "Obstruction is characterized by \n",
    "$$ \\log( 40 - 20[ (x-0.5)^2 + (y-0.5)^2 < r^2 )], r>0 $$"
   ]
  },
  {
   "cell_type": "code",
   "execution_count": 3,
   "metadata": {},
   "outputs": [],
   "source": [
    "def helm(n=64, r = 0.2, s1x=0.1, s1y=0.1, s2x=0.5, s2y=0.1):\n",
    "    # create mesh and define function spaces\n",
    "    nx, ny = n, n\n",
    "    mesh = dl.UnitSquareMesh(nx, ny)\n",
    "    Vk = dl.FunctionSpace(mesh, 'Lagrange', 1)\n",
    "    Vu = dl.FunctionSpace(mesh, 'Lagrange', 2)\n",
    "    # define function for state, wavenumber and adjoint\n",
    "    u = dl.Function(Vu)\n",
    "    k = dl.Function(Vk)\n",
    "    p = dl.Function(Vu)\n",
    "\n",
    "    # define Trial and Test Functions\n",
    "    u_trial, k_trial, p_trial = dl.TrialFunction(Vu), dl.TrialFunction(Vk), dl.TrialFunction(Vu)\n",
    "    u_test,  k_test,  p_test  = dl.TestFunction(Vu),  dl.TestFunction(Vk),  dl.TestFunction(Vu)\n",
    "    \n",
    "\n",
    "    # define boundary\n",
    "    def boundary(x, on_boundary):\n",
    "        return on_boundary\n",
    "    bc_state = dl.DirichletBC(Vu, dl.Constant(0.0), boundary)\n",
    "    \n",
    "    # define weak form of Helmholtz equation for synthetics \n",
    "    eqstr = 'std::log( 40. - 20.*(pow(x[0] - 0.5,2) + pow(x[1] - 0.5,2) < pow({},2) ) )'.format(r)\n",
    "    ktrue = dl.interpolate(dl.Expression(eqstr, degree=5), Vk)\n",
    "    #ktrue = dl.interpolate(dl.Constant(5), Vk)\n",
    "    a_true = (-dl.inner(dl.grad(u_trial), dl.grad(u_test)) + dl.inner(dl.exp(2*ktrue)*u_trial, u_test)) * dl.dx\n",
    "    \n",
    "#     eqstr = '20.0*exp( -( pow(x[0] - 0.25,2) + pow(x[1] - 0.25,2) ) / 0.05  )'\n",
    "#     f = dl.Expression(eqstr, degree=3)\n",
    "#     f = dl.interpolate(dl.Expression(eqstr, degree=2), Vu)\n",
    "    f = dl.Constant(0.0)\n",
    "    L_true = f * u_test * dl.dx\n",
    "\n",
    "    A, b = dl.assemble_system(a_true, L_true, bc_state)\n",
    "    # define source(s)\n",
    "    if np.minimum(s1x, s1y) > 0:\n",
    "        sp1 = dl.Point(s1x,s1y)\n",
    "        ps1 = dl.PointSource(Vu, sp1, 1.0)\n",
    "        ps1.apply(b)\n",
    "    if np.minimum(s2x, s2y) > 0:\n",
    "        sp2 = dl.Point(s2x, s2y)\n",
    "        ps2 = dl.PointSource(Vu, sp2, 1.0)\n",
    "        ps2.apply(b)\n",
    "    \n",
    "    dl.solve(A, u.vector(), b)\n",
    "    \n",
    "    # plot\n",
    "#     plt.figure(figsize=(15,5))\n",
    "#     nb.plot(mesh,subplot_loc=121, mytitle=\"Mesh\", show_axis='on')\n",
    "    fig, axs = plt.subplots(ncols=2, figsize=(15,5))\n",
    "    n = 100\n",
    "    x = np.linspace(0,1,n)\n",
    "    y = np.linspace(0,1,n)\n",
    "    X,Y = np.meshgrid(x,y)\n",
    "    xx = X.flatten()\n",
    "    yy = Y.flatten()\n",
    "    u_eval = np.array([u(x,y) for x, y in zip(xx,yy)])\n",
    "    k_eval = np.array([ktrue(x,y) for x, y in zip(xx,yy)])\n",
    "    \n",
    "    axs[0].contourf(x, y, u_eval.reshape(n,n), alpha=0.8, vmin=-0.7, vmax=0.3)#, vmin=vmin, vmax=vmax)\n",
    "    axs[0].pcolor(x, y, u_eval.reshape(n,n), alpha=0.5, vmin=-0.7, vmax=0.3)#, vmin=vmin, vmax=vmax)\n",
    "    if np.minimum(s1x, s1y) > 0:\n",
    "        axs[0].scatter(s1x, s1y, facecolor='white')\n",
    "    if np.minimum(s2x, s2y) > 0:\n",
    "        axs[0].scatter(s2x, s2y, facecolor='white')   \n",
    "    \n",
    "    axs[1].contourf(x, y, k_eval.reshape(n,n), alpha=0.8)#, vmin=vmin, vmax=vmax)\n",
    "#     plt.pcolor(x, y, k_eval.reshape(n,n), alpha=0.5)#, vmin=vmin, vmax=vmax)\n",
    "#     plt.colorbar()\n",
    "     \n",
    "    \n",
    "    plt.show()\n",
    "    return None\n",
    "    "
   ]
  },
  {
   "cell_type": "code",
   "execution_count": 4,
   "metadata": {
    "scrolled": false
   },
   "outputs": [
    {
     "data": {
      "application/vnd.jupyter.widget-view+json": {
       "model_id": "a78a3b378e8a427ea1ac3e24ad111229",
       "version_major": 2,
       "version_minor": 0
      },
      "text/plain": [
       "interactive(children=(IntSlider(value=64, continuous_update=False, description='n', max=128, min=10), FloatSli…"
      ]
     },
     "metadata": {},
     "output_type": "display_data"
    }
   ],
   "source": [
    "u = wd.interact_manual(helm, \n",
    "            n = wd.IntSlider(value=64, min=10, max=128, continuous_update=False),\n",
    "            r = wd.FloatSlider(value=0.2, min=0, max=1, step=0.05, continuous_update=False),\n",
    "            s1x = wd.FloatSlider(value=0.1, min=0, max=1, step=0.05, continuous_update=False),\n",
    "            s1y = wd.FloatSlider(value=0.1, min=0, max=1, step=0.05, continuous_update=False),\n",
    "            s2x = wd.FloatSlider(value=0.9, min=0, max=1, step=0.05, continuous_update=False),\n",
    "            s2y = wd.FloatSlider(value=0, min=0, max=1, step=0.05, continuous_update=False)\n",
    "           )\n"
   ]
  },
  {
   "cell_type": "markdown",
   "metadata": {},
   "source": [
    "## How I would get data out of this... "
   ]
  },
  {
   "cell_type": "code",
   "execution_count": 4,
   "metadata": {},
   "outputs": [],
   "source": [
    "def hh(n=64, r = 0.2, s1x=0.1, s1y=0.1, s2x=0.5, s2y=0.1):\n",
    "    # create mesh and define function spaces\n",
    "    nx, ny = n, n\n",
    "    mesh = dl.UnitSquareMesh(nx, ny)\n",
    "    Vk = dl.FunctionSpace(mesh, 'Lagrange', 1)\n",
    "    Vu = dl.FunctionSpace(mesh, 'Lagrange', 2)\n",
    "    # define function for state, wavenumber and adjoint\n",
    "    u = dl.Function(Vu)\n",
    "    k = dl.Function(Vk)\n",
    "    p = dl.Function(Vu)\n",
    "\n",
    "    # define Trial and Test Functions\n",
    "    u_trial, k_trial, p_trial = dl.TrialFunction(Vu), dl.TrialFunction(Vk), dl.TrialFunction(Vu)\n",
    "    u_test,  k_test,  p_test  = dl.TestFunction(Vu),  dl.TestFunction(Vk),  dl.TestFunction(Vu)\n",
    "    \n",
    "\n",
    "    # define boundary\n",
    "    def boundary(x, on_boundary):\n",
    "        return on_boundary\n",
    "    bc_state = dl.DirichletBC(Vu, dl.Constant(0.0), boundary)\n",
    "    \n",
    "    # define weak form of Helmholtz equation for synthetics \n",
    "    eqstr = 'std::log( 40. - 20.*(pow(x[0] - 0.5,2) + pow(x[1] - 0.5,2) < pow({},2) ) )'.format(r)\n",
    "    ktrue = dl.interpolate(dl.Expression(eqstr, degree=5), Vk)\n",
    "    #ktrue = dl.interpolate(dl.Constant(5), Vk)\n",
    "    a_true = (-dl.inner(dl.grad(u_trial), dl.grad(u_test)) + dl.inner(dl.exp(2*ktrue)*u_trial, u_test)) * dl.dx\n",
    "    L_true = dl.Constant(0.0) * u_test * dl.dx\n",
    "\n",
    "    A, b = dl.assemble_system(a_true, L_true, bc_state)\n",
    "    # define source(s)\n",
    "    if np.minimum(s1x, s1y) > 0:\n",
    "        sp1 = dl.Point(s1x,s1y)\n",
    "        ps1 = dl.PointSource(Vu, sp1, 1.0)\n",
    "        ps1.apply(b)\n",
    "    if np.minimum(s2x, s2y) > 0:\n",
    "        sp2 = dl.Point(s2x, s2y)\n",
    "        ps2 = dl.PointSource(Vu, sp2, 1.0)\n",
    "        ps2.apply(b)\n",
    "    \n",
    "    dl.solve(A, u.vector(),b)\n",
    "    \n",
    "    # plot\n",
    "#     plt.figure(figsize=(15,5))\n",
    "# #     nb.plot(mesh,subplot_loc=121, mytitle=\"Mesh\", show_axis='on')\n",
    "#     nb.plot(u, subplot_loc=121, mytitle=\"Displacement Field\", vmin=-0.7, vmax=0.3)\n",
    "#     if np.minimum(s1x, s1y) > 0:\n",
    "#         nb.plt.scatter(s1x, s1y, facecolor='white')\n",
    "#     if np.minimum(s2x, s2y) > 0:\n",
    "#         nb.plt.scatter(s2x, s2y, facecolor='white')\n",
    "#     nb.plot(ktrue, subplot_loc=122, mytitle=\"True parameter field\")\n",
    "#     plt.show()\n",
    "    \n",
    "    return u"
   ]
  },
  {
   "cell_type": "code",
   "execution_count": 5,
   "metadata": {},
   "outputs": [],
   "source": [
    "u = hh()"
   ]
  },
  {
   "cell_type": "code",
   "execution_count": 6,
   "metadata": {},
   "outputs": [],
   "source": [
    "ns = 9\n",
    "x_samps = np.linspace(0.1, 0.9, ns)\n",
    "y_samps = 0.9*np.ones(9) # sample along a straight line\n",
    "sample_locs = np.vstack([x_samps, y_samps]).T"
   ]
  },
  {
   "cell_type": "code",
   "execution_count": 7,
   "metadata": {},
   "outputs": [
    {
     "data": {
      "text/plain": [
       "array([[ 0.04256083],\n",
       "       [-0.09736842],\n",
       "       [-0.00406872],\n",
       "       [ 0.00643653],\n",
       "       [ 0.20347954],\n",
       "       [ 0.09283479],\n",
       "       [ 0.02072406],\n",
       "       [ 0.01844977],\n",
       "       [-0.00054087]])"
      ]
     },
     "execution_count": 7,
     "metadata": {},
     "output_type": "execute_result"
    }
   ],
   "source": [
    "u_eval = []\n",
    "for i in range(ns):\n",
    "    u_eval.append(u(*sample_locs[i,:]))\n",
    "u_eval = np.array(u_eval).reshape(-1,1)\n",
    "u_eval"
   ]
  },
  {
   "cell_type": "markdown",
   "metadata": {},
   "source": [
    "## Using Consistent Bayes to Solve an \"OED-like\" problem.\n",
    "\n",
    "    - We are restricted to taking measuremnts in a straight line because of the equipment available to us. \n",
    "    - We will consider equispaced measurements, a couple setups \n",
    "    "
   ]
  },
  {
   "cell_type": "markdown",
   "metadata": {},
   "source": [
    "# Defining a Prior\n",
    "\n",
    "\n"
   ]
  },
  {
   "cell_type": "code",
   "execution_count": null,
   "metadata": {},
   "outputs": [],
   "source": []
  }
 ],
 "metadata": {
  "kernelspec": {
   "display_name": "Python 3",
   "language": "python",
   "name": "python3"
  },
  "language_info": {
   "codemirror_mode": {
    "name": "ipython",
    "version": 3
   },
   "file_extension": ".py",
   "mimetype": "text/x-python",
   "name": "python",
   "nbconvert_exporter": "python",
   "pygments_lexer": "ipython3",
   "version": "3.5.2"
  }
 },
 "nbformat": 4,
 "nbformat_minor": 2
}
